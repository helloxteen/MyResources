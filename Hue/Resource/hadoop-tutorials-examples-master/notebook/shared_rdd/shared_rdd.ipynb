{
 "cells": [
  {
   "cell_type": "code",
   "execution_count": 1,
   "metadata": {
    "collapsed": true
   },
   "outputs": [],
   "source": [
    "import requests\n",
    "import json\n",
    "\n",
    "\n",
    "class SharedRdd():\n",
    "  \"\"\"\n",
    "  Perform REST calls to a remote PySpark shell containing a Shared named RDD.\n",
    "  \"\"\"  \n",
    "  def __init__(self, session_url, name):\n",
    "    self.session_url = session_url\n",
    "    self.name = name\n",
    "    \n",
    "  def get(self, key):\n",
    "    return self._curl('%(rdd)s.get(\"%(key)s\")' % {'rdd': self.name, 'key': key})\n",
    "  \n",
    "  def set(self, key, value):\n",
    "    return self._curl('%(rdd)s.set(\"%(key)s\", \"%(value)s\")' % {'rdd': self.name, 'key': key, 'value': value})\n",
    "  \n",
    "  def _curl(self, code):\n",
    "    statements_url = self.session_url + '/statements'\n",
    "    data = {'code': code}\n",
    "    r = requests.post(statements_url, data=json.dumps(data), headers={'Content-Type': 'application/json'})\n",
    "    resp = r.json()\n",
    "    statement_id = str(resp['id'])\n",
    "    while resp['state'] == 'running':\n",
    "      r = requests.get(statements_url + '/' + statement_id)\n",
    "      resp = r.json()  \n",
    "    if 'output' in resp:\n",
    "      return resp['output']['data']\n",
    "    else:\n",
    "      return resp['data']\n"
   ]
  },
  {
   "cell_type": "code",
   "execution_count": null,
   "metadata": {
    "collapsed": true
   },
   "outputs": [],
   "source": [
    "states = SharedRdd('http://localhost:8998/sessions/0', 'states')"
   ]
  },
  {
   "cell_type": "code",
   "execution_count": null,
   "metadata": {
    "collapsed": true
   },
   "outputs": [],
   "source": [
    "print states.get('ak')\n",
    "print states.get('ca')"
   ]
  }
 ],
 "metadata": {
  "kernelspec": {
   "display_name": "Python 2",
   "language": "python",
   "name": "python2"
  },
  "language_info": {
   "codemirror_mode": {
    "name": "ipython",
    "version": 2
   },
   "file_extension": ".py",
   "mimetype": "text/x-python",
   "name": "python",
   "nbconvert_exporter": "python",
   "pygments_lexer": "ipython2",
   "version": "2.7.10"
  }
 },
 "nbformat": 4,
 "nbformat_minor": 0
}
